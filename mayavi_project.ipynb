{
 "cells": [
  {
   "cell_type": "markdown",
   "metadata": {},
   "source": [
    "## Projekt związany z wizualizacją danych MRI wraz z płaszczyzną ISO"
   ]
  },
  {
   "cell_type": "markdown",
   "metadata": {},
   "source": [
    "## Instrukcja obsługująca wyświetalnie okna z wizualizacją"
   ]
  },
  {
   "cell_type": "code",
   "execution_count": 153,
   "metadata": {},
   "outputs": [],
   "source": [
    "%gui qt"
   ]
  },
  {
   "cell_type": "code",
   "execution_count": 154,
   "metadata": {},
   "outputs": [],
   "source": [
    "from mayavi import mlab\n",
    "import numpy as np"
   ]
  },
  {
   "cell_type": "markdown",
   "metadata": {},
   "source": [
    "## Pobranie danych "
   ]
  },
  {
   "cell_type": "code",
   "execution_count": 155,
   "metadata": {},
   "outputs": [],
   "source": [
    "import os\n",
    "if not os.path.exists('MRbrain.tar.gz'):\n",
    "    try:\n",
    "        from urllib import urlopen\n",
    "    except ImportError:\n",
    "        from urllib.request import urlopen\n",
    "    print(\"Downloading data, Please Wait (7.8MB)\")\n",
    "    opener = urlopen(\n",
    "                'http://graphics.stanford.edu/data/voldata/MRbrain.tar.gz')\n",
    "    open('MRbrain.tar.gz', 'wb').write(opener.read())"
   ]
  },
  {
   "cell_type": "markdown",
   "metadata": {},
   "source": [
    "## Rozpakowanie danych"
   ]
  },
  {
   "cell_type": "code",
   "execution_count": 156,
   "metadata": {},
   "outputs": [],
   "source": [
    "import tarfile\n",
    "tar_file = tarfile.open('MRbrain.tar.gz')\n",
    "try:\n",
    "    os.mkdir('mri_data')\n",
    "except:\n",
    "    pass\n",
    "tar_file.extractall('mri_data')\n",
    "tar_file.close()"
   ]
  },
  {
   "cell_type": "markdown",
   "metadata": {},
   "source": [
    "## Wczytanie danych jako trójwymiarowa tablica numpy"
   ]
  },
  {
   "cell_type": "code",
   "execution_count": 157,
   "metadata": {},
   "outputs": [],
   "source": [
    "data = np.array([np.fromfile(os.path.join('mri_data', 'MRbrain.%i' % i),\n",
    "                                        dtype='>u2') for i in range(1, 110)])\n",
    "data.shape = (109, 256, 256)\n",
    "data = data.T"
   ]
  },
  {
   "cell_type": "markdown",
   "metadata": {},
   "source": [
    "## Wyświetlanie danych"
   ]
  },
  {
   "cell_type": "code",
   "execution_count": 158,
   "metadata": {},
   "outputs": [],
   "source": [
    "mlab.figure(bgcolor=(0, 0, 0), size=(400, 400))\n",
    "src = mlab.pipeline.scalar_field(data)"
   ]
  },
  {
   "cell_type": "markdown",
   "metadata": {},
   "source": [
    "## Nasze dane nie są równomiernie rozmieszczone w przestrzeni trójwymiarowej"
   ]
  },
  {
   "cell_type": "code",
   "execution_count": 159,
   "metadata": {},
   "outputs": [],
   "source": [
    "src.spacing = [1, 1, 1.5]\n",
    "src.update_image_data = True"
   ]
  },
  {
   "cell_type": "markdown",
   "metadata": {},
   "source": [
    "## Ekstrakcja wewnętrznych struktur: komory oraz włókna pomiędzy półkulami. Definiujemy volume of interest (VOI), które ograniczają izopowierzchnie do tych wewnątrz mózgu. Robimy to porzez wykorzystanie filtru ExtractGrid"
   ]
  },
  {
   "cell_type": "code",
   "execution_count": 160,
   "metadata": {},
   "outputs": [
    {
     "data": {
      "text/plain": [
       "<mayavi.modules.iso_surface.IsoSurface at 0x278821b1528>"
      ]
     },
     "execution_count": 160,
     "metadata": {},
     "output_type": "execute_result"
    }
   ],
   "source": [
    "blur = mlab.pipeline.user_defined(src, filter='ImageGaussianSmooth')\n",
    "voi = mlab.pipeline.extract_grid(blur)\n",
    "voi.trait_set(x_min=125, x_max=193, y_min=92, y_max=125, z_min=34, z_max=75)\n",
    "\n",
    "mlab.pipeline.iso_surface(voi, contours=[1610, 2480], colormap='Spectral')\n"
   ]
  },
  {
   "cell_type": "code",
   "execution_count": 161,
   "metadata": {},
   "outputs": [],
   "source": [
    "mlab.pipeline.scalar_cut_plane??"
   ]
  },
  {
   "cell_type": "markdown",
   "metadata": {},
   "source": [
    "## Dodajemy dwie płaszczyzny aby pokazać nie obrobione dane MRI. Używamy filtru aby obciąć powirzchnie poza mózgiem."
   ]
  },
  {
   "cell_type": "code",
   "execution_count": 163,
   "metadata": {},
   "outputs": [],
   "source": [
    "thr = mlab.pipeline.threshold(src, low=1120)\n",
    "cut_plane = mlab.pipeline.scalar_cut_plane(thr,\n",
    "                                plane_orientation='y_axes',\n",
    "                                colormap='black-white',\n",
    "                                vmin=1400,\n",
    "                                vmax=2600)\n",
    "cut_plane.implicit_plane.origin = (136, 111.5, 82)\n",
    "cut_plane.implicit_plane.widget.enabled = False\n",
    "\n",
    "cut_plane2 = mlab.pipeline.scalar_cut_plane(thr,\n",
    "                                plane_orientation='z_axes',\n",
    "                                colormap='black-white',\n",
    "                                vmin=1400,\n",
    "                                vmax=2600)\n",
    "cut_plane2.implicit_plane.origin = (136, 111.5, 82)\n",
    "cut_plane2.implicit_plane.widget.enabled = False"
   ]
  },
  {
   "cell_type": "code",
   "execution_count": null,
   "metadata": {},
   "outputs": [],
   "source": []
  },
  {
   "cell_type": "markdown",
   "metadata": {},
   "source": [
    "## Wydobywamy dwa widoki powierzchni zewnętrznej. Potrzebujemy zdefiniować VOI aby zostawić wycięcie w głowie."
   ]
  },
  {
   "cell_type": "code",
   "execution_count": null,
   "metadata": {},
   "outputs": [],
   "source": [
    "voi2 = mlab.pipeline.extract_grid(src)\n",
    "voi2.trait_set(y_min=112)\n",
    "outer = mlab.pipeline.iso_surface(voi2, contours=[1776, ],\n",
    "                                        color=(0.8, 0.7, 0.6))\n",
    "\n",
    "voi3 = mlab.pipeline.extract_grid(src)\n",
    "voi3.trait_set(y_max=112, z_max=53)\n",
    "outer3 = mlab.pipeline.iso_surface(voi3, contours=[1776, ],\n",
    "                                         color=(0.8, 0.7, 0.6))\n",
    "\n",
    "\n",
    "mlab.view(-125, 54, 326, (145.5, 138, 66.5))\n",
    "mlab.roll(-175)\n",
    "\n",
    "mlab.show()\n",
    "\n",
    "import shutil\n",
    "shutil.rmtree('mri_data')"
   ]
  }
 ],
 "metadata": {
  "kernelspec": {
   "display_name": "Python 3",
   "language": "python",
   "name": "python3"
  },
  "language_info": {
   "codemirror_mode": {
    "name": "ipython",
    "version": 3
   },
   "file_extension": ".py",
   "mimetype": "text/x-python",
   "name": "python",
   "nbconvert_exporter": "python",
   "pygments_lexer": "ipython3",
   "version": "3.7.4"
  }
 },
 "nbformat": 4,
 "nbformat_minor": 2
}
